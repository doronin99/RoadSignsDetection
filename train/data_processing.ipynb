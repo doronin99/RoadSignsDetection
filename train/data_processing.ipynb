{
 "cells": [
  {
   "cell_type": "code",
   "execution_count": null,
   "metadata": {},
   "outputs": [],
   "source": [
    "!unzip archive.zip -d ."
   ]
  },
  {
   "cell_type": "code",
   "execution_count": null,
   "metadata": {},
   "outputs": [],
   "source": [
    "import os\n",
    "\n",
    "import pandas as pd\n",
    "import matplotlib.pyplot as plt\n",
    "\n",
    "from coco_to_yolo import convert_annotations_to_yolo\n",
    "from coco_to_yolo import create_empty_annotations\n",
    "from coco_to_yolo import read_coco_annotations\n",
    "\n",
    "from utilities import clean_data\n",
    "from utilities import create_yaml_from_class_map\n",
    "from utilities import filter_annotations\n",
    "from utilities import reduce_background_images\n",
    "from utilities import remove_small_classes\n",
    "from utilities import split_data\n",
    "from utilities import update_yaml_classes"
   ]
  },
  {
   "cell_type": "code",
   "execution_count": null,
   "metadata": {},
   "outputs": [],
   "source": [
    "random_seed = 42"
   ]
  },
  {
   "cell_type": "code",
   "execution_count": null,
   "metadata": {},
   "outputs": [],
   "source": [
    "image_folder = \"rtsd-frames/\"\n",
    "train_anno = read_coco_annotations(\"train_anno.json\")\n",
    "valid_anno = read_coco_annotations(\"val_anno.json\")\n",
    "convert_annotations_to_yolo(image_folder, train_anno)\n",
    "convert_annotations_to_yolo(image_folder, valid_anno)"
   ]
  },
  {
   "cell_type": "code",
   "execution_count": null,
   "metadata": {},
   "outputs": [],
   "source": [
    "def analyze_class_distribution_pandas(annotation_folder):\n",
    "    class_counts = []\n",
    "\n",
    "    for filename in os.listdir(annotation_folder):\n",
    "        if filename.endswith(\".txt\"):\n",
    "            file_path = os.path.join(annotation_folder, filename)\n",
    "            with open(file_path, \"r\") as file:\n",
    "                annotations = file.readlines()\n",
    "                for annotation in annotations:\n",
    "                    class_index = int(annotation.split()[0])\n",
    "                    class_counts.append(class_index)\n",
    "\n",
    "    df = pd.DataFrame(class_counts, columns=[\"Class\"])\n",
    "    df = df[\"Class\"].value_counts().reset_index()\n",
    "    df.columns = [\"Class\", \"Count\"]\n",
    "    return df\n",
    "\n",
    "\n",
    "def plot_distribution_pandas(df):\n",
    "    df.plot(kind=\"bar\", x=\"Class\", y=\"Count\")\n",
    "    plt.xlabel(\"Class ID\")\n",
    "    plt.ylabel(\"Count\")\n",
    "    plt.title(\"Class Distribution in Dataset\")\n",
    "    plt.show()\n",
    "\n",
    "\n",
    "annotation_folder = \"rtsd-frames2/rtsd-frames/\"\n",
    "class_counts = analyze_class_distribution_pandas(annotation_folder)\n",
    "plot_distribution_pandas(class_counts)"
   ]
  },
  {
   "cell_type": "code",
   "execution_count": null,
   "metadata": {},
   "outputs": [],
   "source": [
    "def plot_images_with_annotations(folder_path, num_images=5):\n",
    "    images = [\n",
    "        file\n",
    "        for file in os.listdir(folder_path)\n",
    "        if file.endswith(\".jpg\") or file.endswith(\".png\")\n",
    "    ]\n",
    "\n",
    "    for i, image_file in enumerate(images[:num_images]):\n",
    "        image_path = os.path.join(folder_path, image_file)\n",
    "        annotation_path = os.path.join(\n",
    "            folder_path, image_file.replace(\".jpg\", \".txt\").replace(\".png\", \".txt\")\n",
    "        )\n",
    "\n",
    "        image = Image.open(image_path)\n",
    "        fig, ax = plt.subplots(1)\n",
    "        ax.imshow(image)\n",
    "\n",
    "        if os.path.exists(annotation_path):\n",
    "            with open(annotation_path, \"r\") as file:\n",
    "                for line in file.readlines():\n",
    "                    class_id, x_center, y_center, width, height = map(\n",
    "                        float, line.split()\n",
    "                    )\n",
    "\n",
    "                    x = (x_center - width / 2) * image.width\n",
    "                    y = (y_center - height / 2) * image.height\n",
    "                    width *= image.width\n",
    "                    height *= image.height\n",
    "\n",
    "                    rect = patches.Rectangle(\n",
    "                        (x, y),\n",
    "                        width,\n",
    "                        height,\n",
    "                        linewidth=1,\n",
    "                        edgecolor=\"r\",\n",
    "                        facecolor=\"none\",\n",
    "                    )\n",
    "                    ax.add_patch(rect)\n",
    "\n",
    "        plt.show()\n",
    "\n",
    "\n",
    "plot_images_with_annotations(annotation_folder, 5)"
   ]
  },
  {
   "cell_type": "code",
   "execution_count": null,
   "metadata": {},
   "outputs": [],
   "source": [
    "create_empty_annotations(annotation_folder)"
   ]
  },
  {
   "cell_type": "code",
   "execution_count": null,
   "metadata": {},
   "outputs": [],
   "source": [
    "def count_empty_txt_files(folder_path):\n",
    "    empty_file_count = 0\n",
    "\n",
    "    for filename in os.listdir(folder_path):\n",
    "        if filename.endswith(\".txt\"):\n",
    "            file_path = os.path.join(folder_path, filename)\n",
    "            if os.path.getsize(file_path) == 0:\n",
    "                empty_file_count += 1\n",
    "\n",
    "    return empty_file_count\n",
    "\n",
    "\n",
    "folder_path = annotation_folder\n",
    "print(\"Количество пустых .txt файлов:\", count_empty_txt_files(folder_path))"
   ]
  },
  {
   "cell_type": "code",
   "execution_count": null,
   "metadata": {},
   "outputs": [],
   "source": [
    "remove_small_classes(annotation_folder, 700)"
   ]
  },
  {
   "cell_type": "code",
   "execution_count": null,
   "metadata": {},
   "outputs": [],
   "source": [
    "clean_data(annotation_folder, 500, 3000)"
   ]
  },
  {
   "cell_type": "code",
   "execution_count": null,
   "metadata": {},
   "outputs": [],
   "source": [
    "class_counts = analyze_class_distribution_pandas(annotation_folder)\n",
    "classes = class_counts[\"Class\"].tolist()"
   ]
  },
  {
   "cell_type": "code",
   "execution_count": null,
   "metadata": {},
   "outputs": [],
   "source": [
    "mapping = filter_annotations(annotation_folder, classes, 1500)"
   ]
  },
  {
   "cell_type": "code",
   "execution_count": null,
   "metadata": {},
   "outputs": [],
   "source": [
    "print(\"Количество пустых .txt файлов:\", count_empty_txt_files(folder_path))"
   ]
  },
  {
   "cell_type": "code",
   "execution_count": null,
   "metadata": {},
   "outputs": [],
   "source": [
    "train_folder = \"datasets/train\"\n",
    "valid_folder = \"datasets/valid\"\n",
    "\n",
    "split_data(annotation_folder, train_folder, valid_folder, random_seed, train_size=0.8)"
   ]
  },
  {
   "cell_type": "code",
   "execution_count": null,
   "metadata": {},
   "outputs": [],
   "source": [
    "create_yaml_from_class_map(\n",
    "    class_map_path=\"label_map.json\", yaml_output_path=\"data.yaml\"\n",
    ")\n",
    "update_yaml_classes(\"data.yaml\", class_mapping=mapping)"
   ]
  }
 ],
 "metadata": {
  "kernelspec": {
   "display_name": "hw_5",
   "language": "python",
   "name": "python3"
  },
  "language_info": {
   "codemirror_mode": {
    "name": "ipython",
    "version": 3
   },
   "file_extension": ".py",
   "mimetype": "text/x-python",
   "name": "python",
   "nbconvert_exporter": "python",
   "pygments_lexer": "ipython3",
   "version": "3.10.0"
  }
 },
 "nbformat": 4,
 "nbformat_minor": 2
}
